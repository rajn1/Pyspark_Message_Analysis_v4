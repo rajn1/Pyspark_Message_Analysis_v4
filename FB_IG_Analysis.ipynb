{
 "cells": [
  {
   "cell_type": "code",
   "execution_count": null,
   "id": "33701149",
   "metadata": {},
   "outputs": [],
   "source": [
    "import findspark\n",
    "import pyspark\n",
    "from pyspark.sql import SparkSession, Row, Window\n",
    "import pandas as pd\n",
    "from collections import OrderedDict\n",
    "import json, xmltodict\n",
    "import pyspark.sql.functions as F\n",
    "import os"
   ]
  },
  {
   "cell_type": "code",
   "execution_count": null,
   "id": "8c603edf",
   "metadata": {},
   "outputs": [],
   "source": [
    "# Create new Sparkcontext instance for analysis\n",
    "findspark.init()\n",
    "sc = pyspark.SparkContext(appName=\"FB_Messenger\", master='local')\n",
    "spark = SparkSession.builder.getOrCreate()"
   ]
  },
  {
   "cell_type": "code",
   "execution_count": null,
   "id": "3cfb97eb",
   "metadata": {},
   "outputs": [],
   "source": [
    "### v5 ###\n",
    "\n",
    "# Total Messages: 430,212\n",
    "# Expected Runtime: 4.55 minutes\n",
    "\n",
    "# Path pointing at FB messages main directory (1076 relevant files as of now)\n",
    "path_of_the_fb_message_inbox = r'C:\\Users\\RajNa\\Downloads\\FB_Raj_12212021\\messages\\inbox'\n",
    "\n",
    "count = 0\n",
    "\n",
    "# Final DF to contain all Messages\n",
    "fb_message_cols = [\"content\", \"sender_name\", \"timestamp_ms\", \"thread_type\", \"title\"]\n",
    "fb_message_default_vals = [('Message', 'Sender', 1234, 'Type', 'title')]\n",
    "fb_messages_all_df = spark.createDataFrame(fb_message_default_vals,fb_message_cols)\n",
    "\n",
    "\n",
    "# Parse through each folder in the Facebook Inbox folder\n",
    "for fb_chat in os.listdir(path_of_the_fb_message_inbox):\n",
    "    \n",
    "        # Parse through each subfolder (representing each indvidual or group chat)\n",
    "        for fb_chat_details in os.listdir(os.path.join(path_of_the_fb_message_inbox,fb_chat)):\n",
    "            \n",
    "            # Only process message_ files (not photos, videos, etc)\n",
    "            if 'message_' in fb_chat_details:\n",
    "\n",
    "                # Read in entire JSON file (multiline)\n",
    "                fb_chat_df = spark.read.option(\"multiline\",\"true\") \\\n",
    "                .json(os.path.join(path_of_the_fb_message_inbox,fb_chat, fb_chat_details))\n",
    "                \n",
    "                # Drop Unneeded Columns\n",
    "                fb_chat_df = fb_chat_df.drop('is_still_participant','magic_words','thread_path')\n",
    "                \n",
    "                # Use explode to get a row for every single message, and filter out uneeded columns \n",
    "                # A fail implies a missing column, and so can be ignored\n",
    "                try:\n",
    "                    fb_chat_df = fb_chat_df \\\n",
    "                    .select('thread_type', 'title', F.explode('messages')) \\\n",
    "                    .select(\"col.*\", \"*\") \\\n",
    "                    .select('content', 'sender_name', 'timestamp_ms', 'thread_type', 'title')                   \n",
    "                except:\n",
    "                    count = count\n",
    "                \n",
    "                # If it already exists, union the newest chat to a dataframe with all messages in it\n",
    "                try:\n",
    "                    fb_messages_all_df = fb_messages_all_df.union(fb_chat_df)  \n",
    "                # An error indicates a bad join due to missing column, probably no content, and thus can be ignored\n",
    "                except:\n",
    "                    count = count\n",
    "\n",
    "                count = count + 1\n",
    "                print(count)"
   ]
  },
  {
   "cell_type": "code",
   "execution_count": null,
   "id": "e6d5ab1d",
   "metadata": {},
   "outputs": [],
   "source": []
  }
 ],
 "metadata": {
  "kernelspec": {
   "display_name": "Python 3 (ipykernel)",
   "language": "python",
   "name": "python3"
  },
  "language_info": {
   "codemirror_mode": {
    "name": "ipython",
    "version": 3
   },
   "file_extension": ".py",
   "mimetype": "text/x-python",
   "name": "python",
   "nbconvert_exporter": "python",
   "pygments_lexer": "ipython3",
   "version": "3.9.7"
  }
 },
 "nbformat": 4,
 "nbformat_minor": 5
}
