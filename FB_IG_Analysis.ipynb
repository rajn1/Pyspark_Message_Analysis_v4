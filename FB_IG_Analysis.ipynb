{
 "cells": [
  {
   "cell_type": "code",
   "execution_count": 1,
   "id": "efc3bca3",
   "metadata": {},
   "outputs": [],
   "source": [
    "import findspark\n",
    "import pyspark\n",
    "from pyspark.sql import SparkSession, Row, Window\n",
    "import pandas as pd\n",
    "from collections import OrderedDict\n",
    "import json, xmltodict\n",
    "import pyspark.sql.functions as F\n",
    "import os"
   ]
  },
  {
   "cell_type": "code",
   "execution_count": 2,
   "id": "f353e8e2",
   "metadata": {},
   "outputs": [],
   "source": [
    "# Create new Sparkcontext instance for analysis\n",
    "findspark.init()\n",
    "sc = pyspark.SparkContext(appName=\"FB_Messenger_Analysis\", master='local[*]')\n",
    "spark = SparkSession.builder.getOrCreate()"
   ]
  },
  {
   "cell_type": "code",
   "execution_count": 3,
   "id": "2c525f12",
   "metadata": {},
   "outputs": [],
   "source": [
    "fb_messages_all_df = spark.read.option(\"header\",True).csv(r\"C:\\Users\\RajNa\\Documents\\GitHub\\Pyspark_Message_Analysis_v4\\Pyspark_Message_Analysis_v4\\FB_Parsed_Messages.csv\")"
   ]
  },
  {
   "cell_type": "code",
   "execution_count": 4,
   "id": "1f4d380f",
   "metadata": {},
   "outputs": [],
   "source": [
    "# Set the date field (hoping to move this to the Load file once I stop hitting OOM errors)\n",
    "\n",
    "spark.conf.set(\"spark.sql.session.timeZone\", \"America/New_York\")\n",
    "fb_messages_all_df = fb_messages_all_df.withColumn('timestamp_date', F.to_date(F.from_unixtime(fb_messages_all_df['timestamp_ms'] / 1000)))\n",
    "fb_messages_all_df = fb_messages_all_df.withColumn('timestamp_datetime', F.from_unixtime(fb_messages_all_df['timestamp_ms'] / 1000))\n",
    "fb_messages_all_df = fb_messages_all_df.withColumn('timestamp_year', F.year(F.col('timestamp_date')))\n",
    "spark.conf.unset(\"spark.sql.session.timeZone\")"
   ]
  },
  {
   "cell_type": "code",
   "execution_count": null,
   "id": "2c1c06b4",
   "metadata": {},
   "outputs": [],
   "source": [
    "# Who have I messaged the most overall?\n",
    "\n",
    "\n",
    "fb_messages_all_count_df = fb_messages_all_df.groupBy('sender_name').count()\n",
    "\n",
    "countWindowSpec = Window.partitionBy().orderBy(F.col('count').desc())\n",
    "\n",
    "fb_window_sender_count_df = fb_messages_all_count_df.withColumn('rank_sender', F.row_number().over(countWindowSpec)).show(25)\n"
   ]
  },
  {
   "cell_type": "code",
   "execution_count": null,
   "id": "c2635882",
   "metadata": {},
   "outputs": [],
   "source": [
    "# Who have I messaged the most overall, by year, filtering out myself, across all chats\n",
    "\n",
    "my_name = 'Raj Narayan'\n",
    "\n",
    "fb_messages_all_count_year_df = fb_messages_all_df.filter(fb_messages_all_df.sender_name != my_name) \\\n",
    ".groupBy('sender_name', 'timestamp_year').count()\n",
    "\n",
    "countWindowSpec = Window.partitionBy().orderBy(F.col('count').desc())\n",
    "\n",
    "fb_window_sender_count_year_df = fb_messages_all_count_year_df.withColumn('rank_sender', F.row_number().over(countWindowSpec)).show(50)\n"
   ]
  },
  {
   "cell_type": "code",
   "execution_count": 5,
   "id": "14700cec",
   "metadata": {},
   "outputs": [
    {
     "name": "stdout",
     "output_type": "stream",
     "text": [
      "+-----------+--------------+-----+-----------+\n",
      "|sender_name|timestamp_year|count|rank_sender|\n",
      "+-----------+--------------+-----+-----------+\n",
      "|Raj Narayan|          2019|34742|          1|\n",
      "|Raj Narayan|          2017|34147|          2|\n",
      "|Raj Narayan|          2018|30896|          3|\n",
      "|Raj Narayan|          2020|25471|          4|\n",
      "|Raj Narayan|          2016|13603|          5|\n",
      "|Raj Narayan|          2021|12767|          6|\n",
      "|Raj Narayan|          2015| 8266|          7|\n",
      "|Raj Narayan|          2012| 5359|          8|\n",
      "|Raj Narayan|          2011| 4150|          9|\n",
      "|Raj Narayan|          2013| 2416|         10|\n",
      "|Raj Narayan|          2014| 1808|         11|\n",
      "|Raj Narayan|          2010|   67|         12|\n",
      "|Raj Narayan|          2009|    2|         13|\n",
      "+-----------+--------------+-----+-----------+\n",
      "\n"
     ]
    }
   ],
   "source": [
    "# How many messages do I send by year?\n",
    "\n",
    "my_name = 'Raj Narayan'\n",
    "\n",
    "fb_messages_me_count_year_df = fb_messages_all_df.filter(fb_messages_all_df.sender_name == my_name).groupBy('sender_name', 'timestamp_year').count()\n",
    "\n",
    "countWindowSpec = Window.partitionBy().orderBy(F.col('count').desc())\n",
    "\n",
    "fb_window_me_count_year_df = fb_messages_me_count_year_df.withColumn('rank_sender', F.row_number().over(countWindowSpec)).show(50)\n"
   ]
  },
  {
   "cell_type": "code",
   "execution_count": null,
   "id": "ca6feeb8",
   "metadata": {},
   "outputs": [],
   "source": [
    "# How many messages do I send by year by type?\n",
    "\n",
    "my_name = 'Raj Narayan'\n",
    "\n",
    "fb_messages_me_type_count_year_df = fb_messages_all_df \\\n",
    ".filter(fb_messages_all_df.sender_name == my_name) \\\n",
    ".groupBy('sender_name', 'timestamp_year', 'thread_type').count()\n",
    "\n",
    "countWindowSpec = Window.partitionBy().orderBy(F.col('count').desc())\n",
    "\n",
    "fb_window_me_type_count_year_df = fb_messages_me_type_count_year_df.withColumn('rank_sender', F.row_number().over(countWindowSpec)).show(50)\n"
   ]
  },
  {
   "cell_type": "code",
   "execution_count": null,
   "id": "64d0e0a3",
   "metadata": {},
   "outputs": [],
   "source": [
    "# Who have I messaged the most overall, by year, filtering out myself, across all chats by type\n",
    "\n",
    "my_name = 'Raj Narayan'\n",
    "\n",
    "fb_messages_all_type_count_year_df = fb_messages_all_df.filter(fb_messages_all_df.sender_name != my_name) \\\n",
    ".groupBy('sender_name', 'timestamp_year','thread_type').count()\n",
    "\n",
    "countWindowSpec = Window.partitionBy().orderBy(F.col('count').desc())\n",
    "\n",
    "fb_window_sender_type_count_year_df = fb_messages_all_type_count_year_df.withColumn('rank_sender', F.row_number().over(countWindowSpec)).show(50)\n"
   ]
  },
  {
   "cell_type": "code",
   "execution_count": null,
   "id": "d8cc141b",
   "metadata": {},
   "outputs": [],
   "source": [
    "# Who have I messaged the most overall, by year, filtering out myself and group chats\n",
    "\n",
    "my_name = 'Raj Narayan'\n",
    "\n",
    "fb_messages_regular_count_year_df = fb_messages_all_df.filter(fb_messages_all_df.sender_name != my_name) \\\n",
    ".filter(fb_messages_all_df.thread_type != 'RegularGroup') \\\n",
    ".groupBy('sender_name', 'timestamp_year','thread_type').count()\n",
    "\n",
    "countWindowSpec = Window.partitionBy().orderBy(F.col('count').desc())\n",
    "\n",
    "fb_window_regular_count_year_df = fb_messages_regular_count_year_df.withColumn('rank_sender', F.row_number().over(countWindowSpec)).show(50)\n"
   ]
  },
  {
   "cell_type": "code",
   "execution_count": null,
   "id": "33753aa5",
   "metadata": {},
   "outputs": [],
   "source": [
    "# Who have I messaged the most overall, by year, filtering out myself and non-group chats\n",
    "\n",
    "my_name = 'Raj Narayan'\n",
    "\n",
    "fb_messages_regular_group_count_year_df = fb_messages_all_df.filter(fb_messages_all_df.sender_name != my_name) \\\n",
    ".filter(fb_messages_all_df.thread_type != 'Regular') \\\n",
    ".groupBy('sender_name', 'timestamp_year','thread_type').count()\n",
    "\n",
    "countWindowSpec = Window.partitionBy().orderBy(F.col('count').desc())\n",
    "\n",
    "fb_window_regular_group_count_year_df = fb_messages_regular_group_count_year_df.withColumn('rank_sender', F.row_number().over(countWindowSpec)).show(50)\n"
   ]
  },
  {
   "cell_type": "code",
   "execution_count": null,
   "id": "a044b533",
   "metadata": {},
   "outputs": [],
   "source": [
    "# Who have I messaged the most overall, by year, filtering out myself, across all chats, ranked by 2021\n",
    "\n",
    "my_name = 'Raj Narayan'\n",
    "\n",
    "fb_messages_all_count_year_pivot_df = fb_messages_all_df \\\n",
    ".filter(fb_messages_all_df.sender_name != my_name) \\\n",
    ".filter(fb_messages_all_df.timestamp_year.isNotNull()) \\\n",
    ".groupBy('sender_name').pivot('timestamp_year').count()\n",
    "\n",
    "orderBy2021WindowSpec = Window.partitionBy().orderBy(F.col('2021').desc())\n",
    "orderBy2020WindowSpec = Window.partitionBy().orderBy(F.col('2020').desc())\n",
    "orderBy2019WindowSpec = Window.partitionBy().orderBy(F.col('2019').desc())\n",
    "\n",
    "fb_messages_all_count_year_pivot_df \\\n",
    ".withColumn('2019_rank', F.row_number().over(orderBy2019WindowSpec))\\\n",
    ".withColumn('2020_rank', F.row_number().over(orderBy2020WindowSpec))\\\n",
    ".withColumn('2021_rank', F.row_number().over(orderBy2021WindowSpec))\\\n",
    ".show(1000)"
   ]
  },
  {
   "cell_type": "code",
   "execution_count": null,
   "id": "4af65adb",
   "metadata": {},
   "outputs": [],
   "source": [
    "# Who have I messaged the most overall, by year, filtering out myself, across regular chats, ranked by 2021\n",
    "\n",
    "my_name = 'Raj Narayan'\n",
    "\n",
    "fb_messages_all_count_year_pivot_df = fb_messages_all_df \\\n",
    ".filter(fb_messages_all_df.sender_name != my_name) \\\n",
    ".filter(fb_messages_all_df.timestamp_year.isNotNull()) \\\n",
    ".filter(fb_messages_all_df.thread_type == 'Regular') \\\n",
    ".groupBy('sender_name').pivot('timestamp_year').count()\n",
    "\n",
    "orderBy2021WindowSpec = Window.partitionBy().orderBy(F.col('2021').desc())\n",
    "orderBy2020WindowSpec = Window.partitionBy().orderBy(F.col('2020').desc())\n",
    "orderBy2019WindowSpec = Window.partitionBy().orderBy(F.col('2019').desc())\n",
    "\n",
    "fb_messages_all_count_year_pivot_df \\\n",
    ".withColumn('2019_rank', F.row_number().over(orderBy2019WindowSpec))\\\n",
    ".withColumn('2020_rank', F.row_number().over(orderBy2020WindowSpec))\\\n",
    ".withColumn('2021_rank', F.row_number().over(orderBy2021WindowSpec))\\\n",
    ".show(1000)"
   ]
  },
  {
   "cell_type": "code",
   "execution_count": null,
   "id": "f91f4972",
   "metadata": {},
   "outputs": [],
   "source": []
  }
 ],
 "metadata": {
  "kernelspec": {
   "display_name": "Python 3 (ipykernel)",
   "language": "python",
   "name": "python3"
  },
  "language_info": {
   "codemirror_mode": {
    "name": "ipython",
    "version": 3
   },
   "file_extension": ".py",
   "mimetype": "text/x-python",
   "name": "python",
   "nbconvert_exporter": "python",
   "pygments_lexer": "ipython3",
   "version": "3.9.7"
  }
 },
 "nbformat": 4,
 "nbformat_minor": 5
}
