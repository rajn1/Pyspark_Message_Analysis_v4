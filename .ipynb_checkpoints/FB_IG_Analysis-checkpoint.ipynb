{
 "cells": [
  {
   "cell_type": "code",
   "execution_count": null,
   "id": "33701149",
   "metadata": {},
   "outputs": [],
   "source": [
    "import findspark\n",
    "import pyspark\n",
    "from pyspark.sql import SparkSession, Row, Window\n",
    "import pandas as pd\n",
    "from collections import OrderedDict\n",
    "import json, xmltodict\n",
    "import pyspark.sql.functions as F\n",
    "import os"
   ]
  },
  {
   "cell_type": "code",
   "execution_count": null,
   "id": "8c603edf",
   "metadata": {},
   "outputs": [],
   "source": [
    "# Create new Sparkcontext instance for analysis\n",
    "findspark.init()\n",
    "sc = pyspark.SparkContext(appName=\"FB_Messenger\")\n",
    "spark = SparkSession.builder.getOrCreate()"
   ]
  },
  {
   "cell_type": "code",
   "execution_count": null,
   "id": "45191020",
   "metadata": {},
   "outputs": [],
   "source": [
    "# New dataframe to append all FB data to\n",
    "fb_message_cols = [\"title\", \"thread_type\", \"sender_name\", \"content\", \"timestamp_ms\"]\n",
    "fb_message_default_vals = [('Title', 'Type', 'Sender', 'Message', 1234)]\n",
    "\n",
    "fb_messages_df = spark.createDataFrame(fb_message_default_vals,fb_message_cols)"
   ]
  },
  {
   "cell_type": "code",
   "execution_count": null,
   "id": "9f6c7ffa",
   "metadata": {
    "scrolled": true
   },
   "outputs": [],
   "source": [
    "# Parse through each FB folder to compile the messages\n",
    "\n",
    "\n",
    "# Path pointing at FB messages main directory\n",
    "path_of_the_fb_message_inbox = r'C:\\Users\\RajNa\\Downloads\\FB_Raj_12212021\\messages\\inbox'\n",
    "\n",
    "\n",
    "# Parse through each folder in the Facebook Inbox folder\n",
    "for fb_chat in os.listdir(path_of_the_fb_message_inbox):\n",
    "    \n",
    "        # Parse through each subfolder (representing each indvidual or group chat)\n",
    "        for fb_chat_details in os.listdir(os.path.join(path_of_the_fb_message_inbox,fb_chat)):\n",
    "            \n",
    "            # Only process message_ files (not photos, videos, etc)\n",
    "            if 'message_8' in fb_chat_details:\n",
    "                \n",
    "                # Read in entire JSON file (multiline)\n",
    "                fb_chat_df = spark.read.option(\"multiline\",\"true\").json(os.path.join(path_of_the_fb_message_inbox,fb_chat, fb_chat_details))\n",
    "                \n",
    "                # Drop the columns we don't need\n",
    "                fb_chat_df = fb_chat_df.drop('is_still_participant','magic_words','thread_path')\n",
    "                \n",
    "                # Save a variable with chat title (username or groupchat name)\n",
    "                chat_title = fb_chat_df.first()['title']\n",
    "                \n",
    "                # Save a variable with thread type (regular, regulargroup, etc)\n",
    "                chat_thread_type = fb_chat_df.first()['thread_type']\n",
    "                \n",
    "                # For each message in that file (individual JSON row)\n",
    "                for message in fb_chat_df.first()[\"messages\"]:\n",
    "                    \n",
    "                    # Save the content of the message into a variable, but if it's empty (ex: a photo) save an empty string\n",
    "                    if message['content']:\n",
    "                        message_content = message['content']\n",
    "                    else:\n",
    "                        message_content = ''\n",
    "                    \n",
    "                    # Save the sender of the message's name into a variable\n",
    "                    message_sender_name = message['sender_name']\n",
    "                    \n",
    "                    # Save the timestamp (in ms) to a column to be converted later\n",
    "                    message_timestamp_ms = message['timestamp_ms']\n",
    "                    \n",
    "                    # Create a new df using all the above data points\n",
    "                    message_append_row = spark.createDataFrame([(chat_title, chat_thread_type, message_sender_name, message_content, message_timestamp_ms)], fb_message_cols)\n",
    "                    \n",
    "                    # Add this new df from above to a master df with all messages\n",
    "                    fb_messages_df = fb_messages_df.union(message_append_row)\n",
    "                    print(fb_messages_df.show())\n",
    "                \n",
    "                # Fields in Messages Node: content, sender_name, timestamp_ms + is_unsent, photos, reactions, share, sticker, type, users\n",
    "                \n",
    "# Save df to csv file\n",
    "fb_messages_df.toPandas().to_csv('fb_message_df.csv')"
   ]
  },
  {
   "cell_type": "code",
   "execution_count": null,
   "id": "a9802a87",
   "metadata": {},
   "outputs": [],
   "source": [
    "# Test code to understand schema\n",
    "fb_chat_df.first()[\"messages\"][0]\n",
    "#fb_messages_df.first()['title']\n",
    "#fb_messages_df.first()['thread_type']\n",
    "for i in fb_chat_df.first()[\"messages\"]:\n",
    "    if i['content']:\n",
    "        print(i['content'])"
   ]
  },
  {
   "cell_type": "code",
   "execution_count": null,
   "id": "9704c636",
   "metadata": {},
   "outputs": [],
   "source": []
  },
  {
   "cell_type": "code",
   "execution_count": null,
   "id": "29dc1a9e",
   "metadata": {},
   "outputs": [],
   "source": []
  }
 ],
 "metadata": {
  "kernelspec": {
   "display_name": "Python 3 (ipykernel)",
   "language": "python",
   "name": "python3"
  },
  "language_info": {
   "codemirror_mode": {
    "name": "ipython",
    "version": 3
   },
   "file_extension": ".py",
   "mimetype": "text/x-python",
   "name": "python",
   "nbconvert_exporter": "python",
   "pygments_lexer": "ipython3",
   "version": "3.9.7"
  }
 },
 "nbformat": 4,
 "nbformat_minor": 5
}
